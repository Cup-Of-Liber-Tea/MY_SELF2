{
 "cells": [
  {
   "cell_type": "code",
   "execution_count": 1,
   "metadata": {},
   "outputs": [
    {
     "name": "stdout",
     "output_type": "stream",
     "text": [
      "Requirement already satisfied: selenium==4.17.2 in c:\\python\\lib\\site-packages (4.17.2)\n",
      "Requirement already satisfied: urllib3<3,>=1.26 in c:\\python\\lib\\site-packages (from urllib3[socks]<3,>=1.26->selenium==4.17.2) (2.2.2)\n",
      "Requirement already satisfied: trio~=0.17 in c:\\python\\lib\\site-packages (from selenium==4.17.2) (0.26.0)\n",
      "Requirement already satisfied: trio-websocket~=0.9 in c:\\python\\lib\\site-packages (from selenium==4.17.2) (0.11.1)\n",
      "Requirement already satisfied: certifi>=2021.10.8 in c:\\python\\lib\\site-packages (from selenium==4.17.2) (2024.7.4)\n",
      "Requirement already satisfied: typing_extensions>=4.9.0 in c:\\python\\lib\\site-packages (from selenium==4.17.2) (4.12.2)\n",
      "Requirement already satisfied: attrs>=23.2.0 in c:\\python\\lib\\site-packages (from trio~=0.17->selenium==4.17.2) (23.2.0)\n",
      "Requirement already satisfied: sortedcontainers in c:\\python\\lib\\site-packages (from trio~=0.17->selenium==4.17.2) (2.4.0)\n",
      "Requirement already satisfied: idna in c:\\python\\lib\\site-packages (from trio~=0.17->selenium==4.17.2) (3.7)\n",
      "Requirement already satisfied: outcome in c:\\python\\lib\\site-packages (from trio~=0.17->selenium==4.17.2) (1.3.0.post0)\n",
      "Requirement already satisfied: sniffio>=1.3.0 in c:\\python\\lib\\site-packages (from trio~=0.17->selenium==4.17.2) (1.3.1)\n",
      "Requirement already satisfied: cffi>=1.14 in c:\\python\\lib\\site-packages (from trio~=0.17->selenium==4.17.2) (1.16.0)\n",
      "Requirement already satisfied: wsproto>=0.14 in c:\\python\\lib\\site-packages (from trio-websocket~=0.9->selenium==4.17.2) (1.2.0)\n",
      "Requirement already satisfied: pysocks!=1.5.7,<2.0,>=1.5.6 in c:\\python\\lib\\site-packages (from urllib3[socks]<3,>=1.26->selenium==4.17.2) (1.7.1)\n",
      "Requirement already satisfied: pycparser in c:\\python\\lib\\site-packages (from cffi>=1.14->trio~=0.17->selenium==4.17.2) (2.22)\n",
      "Requirement already satisfied: h11<1,>=0.9.0 in c:\\python\\lib\\site-packages (from wsproto>=0.14->trio-websocket~=0.9->selenium==4.17.2) (0.14.0)\n",
      "Note: you may need to restart the kernel to use updated packages.\n"
     ]
    },
    {
     "name": "stderr",
     "output_type": "stream",
     "text": [
      "\n",
      "[notice] A new release of pip is available: 24.0 -> 24.1.1\n",
      "[notice] To update, run: python.exe -m pip install --upgrade pip\n"
     ]
    }
   ],
   "source": [
    "pip install selenium==4.17.2"
   ]
  },
  {
   "cell_type": "code",
   "execution_count": 2,
   "metadata": {},
   "outputs": [],
   "source": [
    "from selenium import webdriver\n",
    "\n",
    "#크롬 드라이버 생성\n",
    "driver = webdriver.Chrome()"
   ]
  },
  {
   "cell_type": "code",
   "execution_count": null,
   "metadata": {},
   "outputs": [],
   "source": [
    "#엣지드라이버 생성\n",
    "driver = webdriver.Edge()"
   ]
  }
 ],
 "metadata": {
  "kernelspec": {
   "display_name": "Python 3",
   "language": "python",
   "name": "python3"
  },
  "language_info": {
   "codemirror_mode": {
    "name": "ipython",
    "version": 3
   },
   "file_extension": ".py",
   "mimetype": "text/x-python",
   "name": "python",
   "nbconvert_exporter": "python",
   "pygments_lexer": "ipython3",
   "version": "3.12.4"
  }
 },
 "nbformat": 4,
 "nbformat_minor": 2
}
