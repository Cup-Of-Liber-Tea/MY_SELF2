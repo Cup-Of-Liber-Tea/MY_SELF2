{
 "cells": [
  {
   "cell_type": "code",
   "execution_count": null,
   "metadata": {},
   "outputs": [],
   "source": [
    "#클래스 = 제품의설게도\n",
    "#객체 = 설계도로 만든 제품\n",
    "#속성 = 클래스안의 변수\n",
    "#메서드 = 클래스 안의 함수\n",
    "#생성자 = 객체가 만들어질때 실행되는 함수"
   ]
  },
  {
   "cell_type": "code",
   "execution_count": null,
   "metadata": {},
   "outputs": [],
   "source": [
    "class monster: #클래스이름\n",
    "    def say(self): #매서드이름() *모든 메서드에는 첫번째로 셀프매게변수가 들어간다..?\n",
    "        print('나는몬스터다') #명령블록\n",
    "\n",
    "#클래스 사용하기\n",
    "#객체 = 클래스 이름()<- 객체가 만들어짐\n",
    "#객체.메서드() 해석하면 객체.(의) 메서드"
   ]
  },
  {
   "cell_type": "code",
   "execution_count": null,
   "metadata": {},
   "outputs": [],
   "source": [
    "class character:\n",
    "    def say(self):\n",
    "        print('나는 케릭터다!')"
   ]
  },
  {
   "cell_type": "code",
   "execution_count": null,
   "metadata": {},
   "outputs": [],
   "source": [
    "ezreal = character()\n",
    "ezreal.say()"
   ]
  },
  {
   "cell_type": "code",
   "execution_count": null,
   "metadata": {},
   "outputs": [],
   "source": [
    "jarvan = character()\n",
    "jarvan.say()"
   ]
  },
  {
   "cell_type": "code",
   "execution_count": 2,
   "metadata": {},
   "outputs": [
    {
     "name": "stdout",
     "output_type": "stream",
     "text": [
      "객체만들때 실행되는 함수\n",
      "나는 몬스터다!\n"
     ]
    }
   ],
   "source": [
    "class monster:\n",
    "    def __init__(self):\n",
    "        print('객체만들때 실행되는 함수')\n",
    "    def say(self):\n",
    "        print('나는 몬스터다!')\n",
    "\n",
    "shark = monster()\n",
    "shark.say()"
   ]
  },
  {
   "cell_type": "code",
   "execution_count": 1,
   "metadata": {},
   "outputs": [
    {
     "name": "stdout",
     "output_type": "stream",
     "text": [
      "나는상어이다!\n"
     ]
    }
   ],
   "source": [
    "class monster:\n",
    "    def __init__(self,name):\n",
    "        self.monster_name = name\n",
    "    def say(self):\n",
    "        print(f'나는{self.monster_name}이다!')\n",
    "shark = monster('상어')\n",
    "shark.say()"
   ]
  }
 ],
 "metadata": {
  "kernelspec": {
   "display_name": "Python 3",
   "language": "python",
   "name": "python3"
  },
  "language_info": {
   "codemirror_mode": {
    "name": "ipython",
    "version": 3
   },
   "file_extension": ".py",
   "mimetype": "text/x-python",
   "name": "python",
   "nbconvert_exporter": "python",
   "pygments_lexer": "ipython3",
   "version": "3.12.4"
  }
 },
 "nbformat": 4,
 "nbformat_minor": 2
}
