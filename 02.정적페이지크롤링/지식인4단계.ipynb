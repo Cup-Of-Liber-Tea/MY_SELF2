{
 "cells": [
  {
   "cell_type": "code",
   "execution_count": null,
   "metadata": {},
   "outputs": [],
   "source": [
    "# 제목링크날짜 카텍고리 답변수 크롤링 n페이지까지 크롤링하기\n",
    "import requests\n",
    "from bs4 import BeautifulSoup\n",
    "import pandas as pd\n",
    "\n",
    "data=[]\n",
    "page = int(input('몇 페이지까지 크롤링할래?'))\n",
    "for i in range(1, page + 1): #레인지 뒤에꺼는 뒤에값 직전까지 만 출력이라 +1을 해주는것!!\n",
    "    response = requests.get(f\"https://kin.naver.com/search/list.naver?query=%EC%82%BC%EC%84%B1%EC%A0%84%EC%9E%90&page={i}\")\n",
    "    HTML = response.text\n",
    "    soup = BeautifulSoup(HTML, 'html.parser')\n",
    "    posts = soup.select(\".basic1 > li\") \n",
    "    for post in posts:\n",
    "        title = post.select_one('._searchListTitleAnchor').text\n",
    "        link = post.select_one(\"._nclicks\\\\:kin\\\\.txt\").attrs['href']\n",
    "        date = post.select_one('.txt_inline').text\n",
    "        category = post.select_one('.txt_g1._nclicks\\\\:kin\\\\.cat2').text\n",
    "        review = post.select_one(\".hit\").text.split('답변수')[1].strip()\n",
    "        print(title,link,date,category,review)\n",
    "        data.append([title,link,date,category,int(review)])\n"
   ]
  },
  {
   "cell_type": "code",
   "execution_count": null,
   "metadata": {},
   "outputs": [],
   "source": [
    "#데이터 프레임\n",
    "df = pd.DataFrame(data, columns=['제목','링크','날짜','카테고리','답변수'])\n",
    "df"
   ]
  },
  {
   "cell_type": "code",
   "execution_count": null,
   "metadata": {},
   "outputs": [],
   "source": [
    "#엑셀저장\n",
    "df.to_excel('naver_kin_ccrawling.xlsx')"
   ]
  }
 ],
 "metadata": {
  "kernelspec": {
   "display_name": "Python 3",
   "language": "python",
   "name": "python3"
  },
  "language_info": {
   "codemirror_mode": {
    "name": "ipython",
    "version": 3
   },
   "file_extension": ".py",
   "mimetype": "text/x-python",
   "name": "python",
   "nbconvert_exporter": "python",
   "pygments_lexer": "ipython3",
   "version": "3.12.4"
  }
 },
 "nbformat": 4,
 "nbformat_minor": 2
}
