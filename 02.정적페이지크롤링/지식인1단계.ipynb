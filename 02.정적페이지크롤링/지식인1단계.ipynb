{
 "cells": [
  {
   "cell_type": "code",
   "execution_count": 1,
   "metadata": {},
   "outputs": [],
   "source": [
    "# 제목링크날짜 카텍고리 답변수 크롤링\n",
    "import requests\n",
    "from bs4 import BeautifulSoup\n",
    "\n",
    "response = requests.get(\"https://kin.naver.com/search/list.naver?query=%EC%82%BC%EC%84%B1%EC%A0%84%EC%9E%90\")\n",
    "HTML = response.text\n",
    "soup = BeautifulSoup(HTML, 'html.parser')"
   ]
  },
  {
   "cell_type": "code",
   "execution_count": 2,
   "metadata": {},
   "outputs": [
    {
     "data": {
      "text/plain": [
       "'삼성전자 주식 배당금'"
      ]
     },
     "execution_count": 2,
     "metadata": {},
     "output_type": "execute_result"
    }
   ],
   "source": [
    "soup.select_one(\"._nclicks\\\\:kin\\\\.txt\").text \n",
    "#클래스가 두개이므로 하나만 가져오고 역슬레시 무시처리하기위해 두번사용."
   ]
  },
  {
   "cell_type": "code",
   "execution_count": null,
   "metadata": {},
   "outputs": [],
   "source": [
    "soup.select_one(\"._searchListTitleAnchor\").text\n",
    "#얘는 별다른 문제없이 작동된다"
   ]
  },
  {
   "cell_type": "code",
   "execution_count": null,
   "metadata": {},
   "outputs": [],
   "source": [
    "soup.select_one('._nclicks\\\\:kin\\\\.txt._searchListTitleAnchor').text \n",
    "#두개를 한번에 가져올수있는데, 띄어쓰기를 지우고'.'으로 이어주고 처음꺼랑마찬가지로 \\\\두개처리"
   ]
  },
  {
   "cell_type": "code",
   "execution_count": null,
   "metadata": {},
   "outputs": [],
   "source": [
    "soup.select_one(\"._nclicks\\\\:kin\\\\.txt\").attrs['href']\n",
    "#링크추출"
   ]
  },
  {
   "cell_type": "code",
   "execution_count": null,
   "metadata": {},
   "outputs": [],
   "source": [
    "soup.select_one('.txt_inline').text\n",
    "#날짜"
   ]
  },
  {
   "cell_type": "code",
   "execution_count": null,
   "metadata": {},
   "outputs": [],
   "source": [
    "soup.select_one('.txt_g1._nclicks\\\\:kin\\\\.cat2').text\n",
    "#특이한건 class=\"txt_g1 _nclicks:kin.cat2\"인데 \n",
    "#중간에 kin.cat2여기도 특수문자처리해야한다는 거다.\n",
    "#soup.select_one('.txt_block > a:nth-of-type(2)').text\n",
    "#위처럼 부모태그 > a 태그 두개중에 \n",
    "#두번째꺼를 선택할때 위처럼nthoftype를 사용하면된다"
   ]
  },
  {
   "cell_type": "code",
   "execution_count": null,
   "metadata": {},
   "outputs": [],
   "source": [
    "#soup.select_one('.txt_block > span:nth-of-type(2)').text.split('답변수')[1].strip()\n",
    "soup.select_one(\".hit\").text.split('답변수')[1].strip()"
   ]
  }
 ],
 "metadata": {
  "kernelspec": {
   "display_name": "Python 3",
   "language": "python",
   "name": "python3"
  },
  "language_info": {
   "codemirror_mode": {
    "name": "ipython",
    "version": 3
   },
   "file_extension": ".py",
   "mimetype": "text/x-python",
   "name": "python",
   "nbconvert_exporter": "python",
   "pygments_lexer": "ipython3",
   "version": "3.12.4"
  }
 },
 "nbformat": 4,
 "nbformat_minor": 2
}
