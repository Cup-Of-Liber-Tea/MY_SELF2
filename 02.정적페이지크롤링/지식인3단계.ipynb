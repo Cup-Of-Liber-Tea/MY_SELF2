{
 "cells": [
  {
   "cell_type": "code",
   "execution_count": 1,
   "metadata": {},
   "outputs": [
    {
     "data": {
      "text/plain": [
       "'5'"
      ]
     },
     "execution_count": 1,
     "metadata": {},
     "output_type": "execute_result"
    }
   ],
   "source": [
    "page = input('몇 페이지까지 크롤링할래?')\n",
    "page"
   ]
  },
  {
   "cell_type": "code",
   "execution_count": 2,
   "metadata": {},
   "outputs": [
    {
     "name": "stdout",
     "output_type": "stream",
     "text": [
      "삼성전자 주식 배당금 https://kin.naver.com/qna/detail.naver?d1id=4&dirId=40102&docId=471548008&qb=7IK87ISx7KCE7J6Q&enc=utf8§ion=kin.qna_ency&rank=1&search_sort=0&spq=0 2024.06.25. 주식, 증권 7\n",
      "삼성전자우 주가 의견좀 부탁드립니다 https://kin.naver.com/qna/detail.naver?d1id=11&dirId=110408&docId=472283126&qb=7IK87ISx7KCE7J6Q&enc=utf8§ion=kin.qna_ency&rank=2&search_sort=0&spq=0 2024.07.11. 대학 입시, 진학 2\n",
      "삼성전자 주가 급하게 고민이 생겼습니다 https://kin.naver.com/qna/detail.naver?d1id=11&dirId=110408&docId=471864201&qb=7IK87ISx7KCE7J6Q&enc=utf8§ion=kin.qna_ency&rank=3&search_sort=0&spq=0 2024.07.03. 대학 입시, 진학 4\n",
      "삼성전자 올인원pc 7 https://kin.naver.com/qna/detail.naver?d1id=1&dirId=10301&docId=471839785&qb=7IK87ISx7KCE7J6Q&enc=utf8§ion=kin.qna_ency&rank=4&search_sort=0&spq=0 2024.06.30. 윈도우 2\n",
      "삼성전자 분기배당 기준일 언젠가요? https://kin.naver.com/qna/detail.naver?d1id=4&dirId=40102&docId=471676218&qb=7IK87ISx7KCE7J6Q&enc=utf8§ion=kin.qna_ency&rank=5&search_sort=0&spq=0 2024.06.27. 주식, 증권 4\n",
      "삼성전자 주가전망이 궁금합니다. https://kin.naver.com/qna/detail.naver?d1id=8&dirId=80301&docId=470596187&qb=7IK87ISx7KCE7J6Q&enc=utf8§ion=kin.qna_ency&rank=6&search_sort=0&spq=0 2024.07.08. 피부관리 5\n",
      "삼성전자 왜 못오릅니까 파업 영향으로...  https://kin.naver.com/qna/detail.naver?d1id=4&dirId=40102&docId=470721375&qb=7IK87ISx7KCE7J6Q&enc=utf8§ion=kin.qna_ency&rank=7&search_sort=0&spq=0 2024.06.21. 주식, 증권 3\n",
      "삼성전자 디지털 프라자에서 휴대폰신규...  https://kin.naver.com/qna/detail.naver?d1id=1&dirId=1070201&docId=471853674&qb=7IK87ISx7KCE7J6Q&enc=utf8§ion=kin.qna_ency&rank=8&search_sort=0&spq=0 2024.07.02. 휴대전화서비스 3\n",
      "삼성전자 모니터 c32f39mfuk 사양...  https://kin.naver.com/qna/detail.naver?d1id=5&dirId=5020401&docId=471950076&qb=7IK87ISx7KCE7J6Q&enc=utf8§ion=kin.qna_ency&rank=9&search_sort=0&spq=0 2024.07.03. 모니터 1\n",
      "제가 삼성전자 ssd 갖고있는데 https://kin.naver.com/qna/detail.naver?d1id=1&dirId=1010405&docId=471573573&qb=7IK87ISx7KCE7J6Q&enc=utf8§ion=kin.qna_ency&rank=10&search_sort=0&spq=0 2024.06.25. 외장하드, 저장장치 2\n",
      "삼성전자 에어컨 Q9000 모델 관련해서...  https://kin.naver.com/qna/detail.naver?d1id=5&dirId=50104&docId=471434136&qb=7IK87ISx7KCE7J6Q&enc=utf8§ion=kin.qna_ency&rank=11&search_sort=0&spq=0 2024.06.23. 청소, 주방, 계절 가전 1\n",
      "삼성전자 그랑데 건조기...  https://kin.naver.com/qna/detail.naver?d1id=10&dirId=1001020206&docId=471496586&qb=7IK87ISx7KCE7J6Q&enc=utf8§ion=kin.qna_ency&rank=12&search_sort=0&spq=0 2024.06.24. 삼성라이온즈 1\n",
      "삼성전자 오디세이 G4 G40B 모니터 https://kin.naver.com/qna/detail.naver?d1id=1&dirId=1010401&docId=469910428&qb=7IK87ISx7KCE7J6Q&enc=utf8§ion=kin.qna_ency&rank=13&search_sort=0&spq=0 2024.05.21. 모니터 3\n",
      "삼성전자 구형 세탁기 sew-6hw113b https://kin.naver.com/qna/detail.naver?d1id=5&dirId=50104&docId=472174066&qb=7IK87ISx7KCE7J6Q&enc=utf8§ion=kin.qna_ency&rank=14&search_sort=0&spq=0 2024.07.08. 청소, 주방, 계절 가전 2\n",
      "삼성전자 주가 흐름이 괜찮아 보이는데 https://kin.naver.com/qna/detail.naver?d1id=11&dirId=110408&docId=472010334&qb=7IK87ISx7KCE7J6Q&enc=utf8§ion=kin.qna_ency&rank=15&search_sort=0&spq=0 2024.07.05. 대학 입시, 진학 5\n",
      "삼성전자 갤럭시북3 프로 영상편집...  https://kin.naver.com/qna/detail.naver?d1id=5&dirId=50103&docId=471387264&qb=7IK87ISx7KCE7J6Q&enc=utf8§ion=kin.qna_ency&rank=16&search_sort=0&spq=0 2024.06.21. 영상, 음향 가전 4\n",
      "삼성전자가 노조가필요한가요? https://kin.naver.com/qna/detail.naver?d1id=6&dirId=60801&docId=396353315&qb=7IK87ISx7KCE7J6Q&enc=utf8§ion=kin.qna_ency&rank=17&search_sort=0&spq=0 2024.07.11. 노동조합, 노사관계 3\n",
      "삼성전자 PER이 작년도보다 높아진 이유 https://kin.naver.com/qna/detail.naver?d1id=4&dirId=40102&docId=472299144&qb=7IK87ISx7KCE7J6Q&enc=utf8§ion=kin.qna_ency&rank=18&search_sort=0&spq=0 2024.07.11. 주식, 증권 4\n",
      "삼성전자 주가 어떤가요? https://kin.naver.com/qna/detail.naver?d1id=4&dirId=40102&docId=450874316&qb=7IK87ISx7KCE7J6Q&enc=utf8§ion=kin.qna_ency&rank=19&search_sort=0&spq=0 2024.07.11. 주식, 증권 9\n",
      "지그재그애 있는 삼성전자 https://kin.naver.com/qna/detail.naver?d1id=5&dirId=511&docId=470943571&qb=7IK87ISx7KCE7J6Q&enc=utf8§ion=kin.qna_ency&rank=20&search_sort=0&spq=0 2024.06.11. 쇼핑몰, 시장 1\n",
      "삼성전자 멤버십포인트 사용 https://kin.naver.com/qna/detail.naver?d1id=5&dirId=50104&docId=381416029&qb=7IK87ISx7KCE7J6Q&enc=utf8§ion=kin.qna_ency&rank=21&search_sort=0&spq=0 2024.07.08. 청소, 주방, 계절 가전 3\n",
      "삼성전자 오디세이 모니터 보호필름? https://kin.naver.com/qna/detail.naver?d1id=1&dirId=1010401&docId=471428888&qb=7IK87ISx7KCE7J6Q&enc=utf8§ion=kin.qna_ency&rank=22&search_sort=0&spq=0 2024.06.22. 모니터 1\n",
      "삼성전자 냉장고 추천 https://kin.naver.com/qna/detail.naver?d1id=5&dirId=50104&docId=467972249&qb=7IK87ISx7KCE7J6Q&enc=utf8§ion=kin.qna_ency&rank=23&search_sort=0&spq=0 2024.07.04. 청소, 주방, 계절 가전 5\n",
      "삼성전자 갤럭시북3 프로 업무용으로...  https://kin.naver.com/qna/detail.naver?d1id=1&dirId=10102&docId=471921520&qb=7IK87ISx7KCE7J6Q&enc=utf8§ion=kin.qna_ency&rank=24&search_sort=0&spq=0 2024.07.02. 노트북 4\n",
      "삼성전자 주가 전망 어떨까요? https://kin.naver.com/qna/detail.naver?d1id=7&dirId=70702&docId=470062395&qb=7IK87ISx7KCE7J6Q&enc=utf8§ion=kin.qna_ency&rank=25&search_sort=0&spq=0 2024.06.29. 요가, 필라테스 6\n",
      "삼성전자 삼성 에어컨 AW05A5171TZA https://kin.naver.com/qna/detail.naver?d1id=5&dirId=50104&docId=471433769&qb=7IK87ISx7KCE7J6Q&enc=utf8§ion=kin.qna_ency&rank=26&search_sort=0&spq=0 2024.06.24. 청소, 주방, 계절 가전 1\n",
      "삼성전자 티비 모델명 읽는법 https://kin.naver.com/qna/detail.naver?d1id=5&dirId=50103&docId=472110555&qb=7IK87ISx7KCE7J6Q&enc=utf8§ion=kin.qna_ency&rank=27&search_sort=0&spq=0 2024.07.06. 영상, 음향 가전 1\n",
      "자격증이 있다면 삼성전자 면접때 가산점 https://kin.naver.com/qna/detail.naver?d1id=4&dirId=40601&docId=470368598&qb=7IK87ISx7KCE7J6Q&enc=utf8§ion=kin.qna_ency&rank=28&search_sort=0&spq=0 2024.07.11. 공무원 2\n",
      "삼성전자와 삼성전자우의 차이? https://kin.naver.com/qna/detail.naver?d1id=1&dirId=107040201&docId=470625523&qb=7IK87ISx7KCE7J6Q&enc=utf8§ion=kin.qna_ency&rank=29&search_sort=0&spq=0 2024.06.05. 삼성 1\n",
      "삼성전자주가 괜찮을까요? https://kin.naver.com/qna/detail.naver?d1id=4&dirId=40701&docId=468782033&qb=7IK87ISx7KCE7J6Q&enc=utf8§ion=kin.qna_ency&rank=30&search_sort=0&spq=0 2024.07.11. 판매, 유통업 5\n",
      "삼성전자 배당금 https://kin.naver.com/qna/detail.naver?d1id=4&dirId=40102&docId=469870616&qb=7IK87ISx7KCE7J6Q&enc=utf8§ion=kin.qna_ency&rank=31&search_sort=0&spq=0 2024.05.20. 주식, 증권 3\n",
      "삼성 전자레인지 실내등 https://kin.naver.com/qna/detail.naver?d1id=5&dirId=501&docId=470175721&qb=7IK87ISx7KCE7J6Q&enc=utf8§ion=kin.qna_ency&rank=32&search_sort=0&spq=0 2024.05.29. 가전제품 1\n",
      "삼성전자주가 예측될까요? https://kin.naver.com/qna/detail.naver?d1id=1&dirId=10102&docId=468830101&qb=7IK87ISx7KCE7J6Q&enc=utf8§ion=kin.qna_ency&rank=33&search_sort=0&spq=0 2024.07.11. 노트북 4\n",
      "삼성전자는 몰락할까요?? https://kin.naver.com/qna/detail.naver?d1id=4&dirId=410&docId=470422787&qb=7IK87ISx7KCE7J6Q&enc=utf8§ion=kin.qna_ency&rank=34&search_sort=0&spq=0 2024.06.13. 경제 기관, 단체 2\n",
      "삼성전자 엔비디아 https://kin.naver.com/qna/detail.naver?d1id=4&dirId=40102&docId=465783197&qb=7IK87ISx7KCE7J6Q&enc=utf8§ion=kin.qna_ency&rank=35&search_sort=0&spq=0 2024.03.07. 주식, 증권 1\n",
      "삼성전자 주가 전망 어떤가요?!! https://kin.naver.com/qna/detail.naver?d1id=4&dirId=40102&docId=393924073&qb=7IK87ISx7KCE7J6Q&enc=utf8§ion=kin.qna_ency&rank=36&search_sort=0&spq=0 2024.07.11. 주식, 증권 11\n",
      "삼성전자 에어컨 종류 어떻게 되나요? https://kin.naver.com/qna/detail.naver?d1id=5&dirId=501&docId=470625423&qb=7IK87ISx7KCE7J6Q&enc=utf8§ion=kin.qna_ency&rank=37&search_sort=0&spq=0 2024.06.05. 가전제품 1\n",
      "선물 받은 삼성전자 포인트 현금화...  https://kin.naver.com/qna/detail.naver?d1id=1&dirId=107040201&docId=469874417&qb=7IK87ISx7KCE7J6Q&enc=utf8§ion=kin.qna_ency&rank=38&search_sort=0&spq=0 2024.05.21. 삼성 2\n",
      "삼성전자 면접 https://kin.naver.com/qna/detail.naver?d1id=11&dirId=1118&docId=384135090&qb=7IK87ISx7KCE7J6Q&enc=utf8§ion=kin.qna_ency&rank=39&search_sort=0&spq=0 2024.04.30. 전기, 전자 공학 3\n",
      "삼성전자 티비 하자 환불 불가 문의 https://kin.naver.com/qna/detail.naver?d1id=6&dirId=60207&docId=466741728&qb=7IK87ISx7KCE7J6Q&enc=utf8§ion=kin.qna_ency&rank=40&search_sort=0&spq=0 2024.05.05. 소비자관련법, 상법 1\n",
      "삼성전자 갤럭시북4 엣지 카티아 캐드...  https://kin.naver.com/qna/detail.naver?d1id=5&dirId=50202&docId=471406083&qb=7IK87ISx7KCE7J6Q&enc=utf8§ion=kin.qna_ency&rank=41&search_sort=0&spq=0 2024.06.21. 노트북 3\n",
      "삼성전자 갤럭시북2 nt550xez-a58a https://kin.naver.com/qna/detail.naver?d1id=1&dirId=10102&docId=468270676&qb=7IK87ISx7KCE7J6Q&enc=utf8§ion=kin.qna_ency&rank=42&search_sort=0&spq=0 2024.04.18. 노트북 2\n",
      "삼성전자 주식선물 매수계약할 때? https://kin.naver.com/qna/detail.naver?d1id=4&dirId=40102&docId=470484366&qb=7IK87ISx7KCE7J6Q&enc=utf8§ion=kin.qna_ency&rank=43&search_sort=0&spq=0 2024.06.03. 주식, 증권 2\n",
      "삼성전자 배당락일 https://kin.naver.com/qna/detail.naver?d1id=4&dirId=40102&docId=467078123&qb=7IK87ISx7KCE7J6Q&enc=utf8§ion=kin.qna_ency&rank=44&search_sort=0&spq=0 2024.05.22. 주식, 증권 6\n",
      "2024 삼성전자 5급 채용 https://kin.naver.com/qna/detail.naver?d1id=4&dirId=40609&docId=466263222&qb=7IK87ISx7KCE7J6Q&enc=utf8§ion=kin.qna_ency&rank=45&search_sort=0&spq=0 2024.03.15. 생산, 기술 1\n",
      "삼성전자는 민간기업인가요? https://kin.naver.com/qna/detail.naver?d1id=4&dirId=406&docId=470841373&qb=7IK87ISx7KCE7J6Q&enc=utf8§ion=kin.qna_ency&rank=46&search_sort=0&spq=0 2024.06.09. 직업, 취업 5\n",
      "삼성전자 빌트인 냉장고 교환 https://kin.naver.com/qna/detail.naver?d1id=6&dirId=60212&docId=467918711&qb=7IK87ISx7KCE7J6Q&enc=utf8§ion=kin.qna_ency&rank=47&search_sort=0&spq=0 2024.04.13. 계약 1\n",
      "삼성전자의 3%의 반등 이유가 뭘까요?? https://kin.naver.com/qna/detail.naver?d1id=4&dirId=40102&docId=470532259&qb=7IK87ISx7KCE7J6Q&enc=utf8§ion=kin.qna_ency&rank=48&search_sort=0&spq=0 2024.06.03. 주식, 증권 2\n",
      "삼성전자 데스크탑 PC 사업 접었나요? https://kin.naver.com/qna/detail.naver?d1id=5&dirId=50201&docId=467724542&qb=7IK87ISx7KCE7J6Q&enc=utf8§ion=kin.qna_ency&rank=49&search_sort=0&spq=0 2024.04.09. 데스크톱 1\n",
      "삼성전자 냉장고 RF905VCLASLA 물넘침 https://kin.naver.com/qna/detail.naver?d1id=5&dirId=50104&docId=467924468&qb=7IK87ISx7KCE7J6Q&enc=utf8§ion=kin.qna_ency&rank=50&search_sort=0&spq=0 2024.04.13. 청소, 주방, 계절 가전 1\n"
     ]
    }
   ],
   "source": [
    "# 제목링크날짜 카텍고리 답변수 크롤링 n페이지까지 크롤링하기\n",
    "import requests\n",
    "from bs4 import BeautifulSoup\n",
    "\n",
    "page = int(input('몇 페이지까지 크롤링할래?'))\n",
    "for i in range(1, page + 1): #레인지 뒤에꺼는 뒤에값 직전까지 만 출력이라 +1을 해주는것!!\n",
    "    response = requests.get(f\"https://kin.naver.com/search/list.naver?query=%EC%82%BC%EC%84%B1%EC%A0%84%EC%9E%90&page={i}\")\n",
    "    HTML = response.text\n",
    "    soup = BeautifulSoup(HTML, 'html.parser')\n",
    "    posts = soup.select(\".basic1 > li\") \n",
    "    for post in posts:\n",
    "        title = post.select_one('._searchListTitleAnchor').text\n",
    "        link = post.select_one(\"._nclicks\\\\:kin\\\\.txt\").attrs['href']\n",
    "        date = post.select_one('.txt_inline').text\n",
    "        category = post.select_one('.txt_g1._nclicks\\\\:kin\\\\.cat2').text\n",
    "        review = post.select_one(\".hit\").text.split('답변수')[1].strip()\n",
    "        print(title,link,date,category,review)\n"
   ]
  }
 ],
 "metadata": {
  "kernelspec": {
   "display_name": "Python 3",
   "language": "python",
   "name": "python3"
  },
  "language_info": {
   "codemirror_mode": {
    "name": "ipython",
    "version": 3
   },
   "file_extension": ".py",
   "mimetype": "text/x-python",
   "name": "python",
   "nbconvert_exporter": "python",
   "pygments_lexer": "ipython3",
   "version": "3.12.4"
  }
 },
 "nbformat": 4,
 "nbformat_minor": 2
}
