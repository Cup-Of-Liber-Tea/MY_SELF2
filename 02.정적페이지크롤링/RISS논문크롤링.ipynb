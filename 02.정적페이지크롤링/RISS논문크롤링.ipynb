{
 "cells": [
  {
   "cell_type": "code",
   "execution_count": 2,
   "metadata": {},
   "outputs": [],
   "source": [
    "# 제목링크날짜 카텍고리 답변수 크롤링\n",
    "import requests\n",
    "from bs4 import BeautifulSoup\n",
    "\n",
    "#파라미터 종류가 많을 경우 꿀팁\n",
    "param = {\n",
    "    'isDetailSearch': 'N',\n",
    "    'searchGubun': 'true',\n",
    "    'viewYn': 'OP',\n",
    "    'strQuery': '패션 인공지능',\n",
    "    'order': '/DESC',\n",
    "    'onHanja': 'false',\n",
    "    'strSort': 'RANK',\n",
    "    'iStartCount': 0,\n",
    "    'sflag': 1,\n",
    "    'isFDetailSearch': 'N',\n",
    "    'pageNumber': 1,\n",
    "    'resultKeyword': '패션 인공지능',\n",
    "    'icate': 're_a_kor',\n",
    "    'colName': 're_a_kor',\n",
    "    'pageScale': 10,\n",
    "    'isTab': 'Y',\n",
    "    'query': '패션 인공지능'\n",
    "}\n",
    "\n",
    "response = requests.get(\"https://www.riss.kr/search/Search.do\", params=param)\n",
    "HTML = response.text\n",
    "soup = BeautifulSoup(HTML, 'html.parser')\n",
    "articles = soup.select('.srchResultListW > ul > li')\n"
   ]
  },
  {
   "cell_type": "code",
   "execution_count": null,
   "metadata": {},
   "outputs": [],
   "source": [
    "import urllib3\n",
    "urllib3.disable_warnings()\n",
    "#헤더가 필요한경우\n",
    "header = {\n",
    "    'User-Agent' : 'Mozilla/5.0',\n",
    "    'Referer':'https://www.riss.kr/search/Search.do?isDetailSearch=N&searchGubun=true&viewYn=OP&queryText=&strQuery=%ED%8C%A8%EC%85%98+%EC%9D%B8%EA%B3%B5%EC%A7%80%EB%8A%A5&exQuery=&exQueryText=&order=%2FDESC&onHanja=false&strSort=RANK&p_year1=&p_year2=&iStartCount=0&orderBy=&mat_type=&mat_subtype=&fulltext_kind=&t_gubun=&learning_type=&ccl_code=&inside_outside=&fric_yn=&db_type=&image_yn=&gubun=&kdc=&ttsUseYn=&l_sub_code=&fsearchMethod=&sflag=1&isFDetailSearch=N&pageNumber=1&resultKeyword=%ED%8C%A8%EC%85%98+%EC%9D%B8%EA%B3%B5%EC%A7%80%EB%8A%A5&fsearchSort=&fsearchOrder=&limiterList=&limiterListText=&facetList=&facetListText=&fsearchDB=&icate=re_a_kor&colName=re_a_kor&pageScale=100&isTab=Y&regnm=&dorg_storage=&language=&language_code=&clickKeyword=&relationKeyword=&query=%ED%8C%A8%EC%85%98+%EC%9D%B8%EA%B3%B5%EC%A7%80%EB%8A%A5'\n",
    "}\n",
    "\n",
    "for article in articles:\n",
    "    title = article.select_one(\".title > a\").text\n",
    "    link = 'https://www.riss.kr/' + article.select_one('.title > a').attrs['href']\n",
    "    \n",
    "    #상세 페이지 요청\n",
    "    response = requests.get(link , headers=header,verify=False)#헤더 요기로 요청 / SSL오류뜰때 해결책\n",
    "    HTML = response.text\n",
    "    soup = BeautifulSoup(HTML, 'html.parser')\n",
    "    #1. 태그 순서를 기준으로 찾기\n",
    "    press = soup.select_one('.infoDetailL > ul > li:nth-of-type(2) > div').text #요청거절당했다\n",
    "    year = soup.select_one('.infoDetailL > ul > li:nth-of-type(5) > div').text\n",
    "    jujes = soup.select_one('.infoDetailL > ul > li:nth-of-type(7) > div').text.split(';')\n",
    "    \n",
    "    # result =[]\n",
    "    # for juje in jujes:\n",
    "    #     result.append(juje.strip())\n",
    "\n",
    "    jujes = [juje.strip() for juje in jujes] #위 세줄 한줄로 표현. 리스트 내포 라고함\n",
    "    print(title, link, press, year,jujes)"
   ]
  },
  {
   "cell_type": "code",
   "execution_count": 36,
   "metadata": {},
   "outputs": [
    {
     "name": "stdout",
     "output_type": "stream",
     "text": [
      "패션 제조 기업의 디지털 트랜스포메이션을 위한 인공지능 솔루션 개발 및 활용 현황 https://www.riss.kr//search/detail/DetailView.do?p_mat_type=1a0202e37d52c72d&control_no=dcd1a8e873c0ca787ecd42904f0c5d65&keyword=패션 인공지능 한국패션비즈니스학회 2022 ['디지털 트랜스포메이션', '패션산업', '인공지능', 'AI 진화 단계', 'digital transformation', 'fashion business', 'artificial intelligence', 'AI evolutionary stage']\n",
      "패션산업에 반영된 인공지능 사례연구 -패션 소비자 중심으로- https://www.riss.kr//search/detail/DetailView.do?p_mat_type=1a0202e37d52c72d&control_no=9c3313ce986b119147de9c1710b0298d&keyword=패션 인공지능 한국디자인문화학회 2020 ['Artificial Intelligence(인공지능)', 'Fashion Industry(패션산업)', 'Fashion Design (패션 디자인)']\n",
      "인공지능(AI) 패션 스타일링 서비스 ‘스티치 픽스’의 융합 콘텐츠 연구 https://www.riss.kr//search/detail/DetailView.do?p_mat_type=1a0202e37d52c72d&control_no=404996b30e5d827bb7998d826d417196&keyword=패션 인공지능 한국전시산업융합연구원 2020 ['Artificial Intelligence(인공지능)', 'Fashion Styling Service(패션 스타일링 서비스)', 'Stitch Fix(스티치 픽스)', 'Convergence Content(융합 콘텐츠)']\n",
      "패션산업에서 인공지능 기반의 디자인 프로세스 혁신에 관한 연구 https://www.riss.kr//search/detail/DetailView.do?p_mat_type=1a0202e37d52c72d&control_no=78a4c578a5bbf1a94884a65323211ff0&keyword=패션 인공지능 커뮤니케이션디자인학회(구 시각디자인학회) 2019 ['인공지능', '기술 혁신', '디자인 혁신', '프로세스 혁신', '패션 디자인 프로세스 혁신', 'Artificial Intelligence', 'Technological Innovation', 'Design Innovation', 'Process Innovation', 'Fashion Design Process Innovation']\n",
      "생성형 인공지능이 적용된 패션 이미지의 활용방안 제안-학습용 인공지능 데이터와 인공지능 기술적용 중심으로- https://www.riss.kr//search/detail/DetailView.do?p_mat_type=1a0202e37d52c72d&control_no=b22cdd16f60538efd18150b21a227875&keyword=패션 인공지능 한국디자인문화학회 2023 ['AI Learning(인공지능 학습)', 'Fashion Generative AI (패션생성형 인공지능)', 'Fashion Daraset(패션 데이터세트)', 'AI\\u3000Fashion(인공지능 패션)']\n",
      "인공지능 학습용 패션 데이터셋 최근 동향 조사 https://www.riss.kr//search/detail/DetailView.do?p_mat_type=1a0202e37d52c72d&control_no=c4e4105ef5ab879fb7998d826d417196&keyword=패션 인공지능 한국방송·미디어공학회 2020 []\n",
      "패션과 인공지능을 융합한 2D 이미지 기반 가상 착의의 복합적 특성 개선 연구 https://www.riss.kr//search/detail/DetailView.do?p_mat_type=1a0202e37d52c72d&control_no=e7b83280940ee1757ecd42904f0c5d65&keyword=패션 인공지능 한국전시산업융합연구원 2022 ['2D Virtual Try-on', 'AI Fashion Convergence', 'Deep Learning Fashion', 'Fashion Digital Transformation', '2D 가상 착의', 'AI 패션 융합', '딥러닝 패션', '패션디지털 전환']\n",
      "인공지능 기반의 패션 제품 사례 연구 https://www.riss.kr//search/detail/DetailView.do?p_mat_type=1a0202e37d52c72d&control_no=46e9a93845ef4d9ab36097776a77e665&keyword=패션 인공지능 한국기초조형학회(Korean Society of Basic Design & Art) 2021 ['인공지능', '패션 제품', '4차 산업혁명', '스마트', 'artificial intelligence', 'fashion products', 'the 4th industrial revolution', 'smart']\n",
      "인공지능이 패션산업에 미치는 영향 : 기계학습을 중심으로 https://www.riss.kr//search/detail/DetailView.do?p_mat_type=1a0202e37d52c72d&control_no=13d063967a0be5024884a65323211ff0&keyword=패션 인공지능 한국생활과학회(KOREAN LIVING SCIENCE ASSOCIATION) 2019 []\n",
      "데이터기반의 인공지능 기술과 패션노믹스 https://www.riss.kr//search/detail/DetailView.do?p_mat_type=1a0202e37d52c72d&control_no=ab979c402289f86ee9810257f7042666&keyword=패션 인공지능 한국감성과학회(Korean Society for Emotion&Sensibility) 2016 []\n"
     ]
    }
   ],
   "source": [
    "import urllib3\n",
    "urllib3.disable_warnings()\n",
    "#헤더가 필요한경우\n",
    "header = {\n",
    "    'User-Agent' : 'Mozilla/5.0',\n",
    "    'Referer':'https://www.riss.kr/search/Search.do?isDetailSearch=N&searchGubun=true&viewYn=OP&queryText=&strQuery=%ED%8C%A8%EC%85%98+%EC%9D%B8%EA%B3%B5%EC%A7%80%EB%8A%A5&exQuery=&exQueryText=&order=%2FDESC&onHanja=false&strSort=RANK&p_year1=&p_year2=&iStartCount=0&orderBy=&mat_type=&mat_subtype=&fulltext_kind=&t_gubun=&learning_type=&ccl_code=&inside_outside=&fric_yn=&db_type=&image_yn=&gubun=&kdc=&ttsUseYn=&l_sub_code=&fsearchMethod=&sflag=1&isFDetailSearch=N&pageNumber=1&resultKeyword=%ED%8C%A8%EC%85%98+%EC%9D%B8%EA%B3%B5%EC%A7%80%EB%8A%A5&fsearchSort=&fsearchOrder=&limiterList=&limiterListText=&facetList=&facetListText=&fsearchDB=&icate=re_a_kor&colName=re_a_kor&pageScale=100&isTab=Y&regnm=&dorg_storage=&language=&language_code=&clickKeyword=&relationKeyword=&query=%ED%8C%A8%EC%85%98+%EC%9D%B8%EA%B3%B5%EC%A7%80%EB%8A%A5'\n",
    "}\n",
    "\n",
    "for article in articles:\n",
    "    title = article.select_one(\".title > a\").text\n",
    "    link = 'https://www.riss.kr/' + article.select_one('.title > a').attrs['href']\n",
    "    \n",
    "    #상세 페이지 요청\n",
    "    response = requests.get(link , headers=header,verify=False)#헤더 요기로 요청 / SSL오류뜰때 해결책\n",
    "    HTML = response.text\n",
    "    soup = BeautifulSoup(HTML, 'html.parser')\n",
    "    #2. 텍스트를 기준으로 찾기\n",
    "    press = soup.find('span', string='발행기관').find_next_sibling().text\n",
    "    year = soup.find('span', string='발행연도').find_next_sibling().text\n",
    "\n",
    "    if soup.find('span',string='주제어'):#주제어가 없는 페이지의 경우 오류가 난다\n",
    "        keywords = soup.find('span',string='주제어').find_next_sibling().text.split(';')\n",
    "        keywords = [keyword.strip() for keyword in keywords]\n",
    "    else:\n",
    "        keywords = []\n",
    "    print(title, link, press, year, keywords)"
   ]
  }
 ],
 "metadata": {
  "kernelspec": {
   "display_name": "Python 3",
   "language": "python",
   "name": "python3"
  },
  "language_info": {
   "codemirror_mode": {
    "name": "ipython",
    "version": 3
   },
   "file_extension": ".py",
   "mimetype": "text/x-python",
   "name": "python",
   "nbconvert_exporter": "python",
   "pygments_lexer": "ipython3",
   "version": "3.12.4"
  }
 },
 "nbformat": 4,
 "nbformat_minor": 2
}
