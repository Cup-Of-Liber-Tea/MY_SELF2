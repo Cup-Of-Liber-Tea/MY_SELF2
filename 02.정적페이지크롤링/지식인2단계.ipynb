{
 "cells": [
  {
   "cell_type": "code",
   "execution_count": 10,
   "metadata": {},
   "outputs": [
    {
     "name": "stdout",
     "output_type": "stream",
     "text": [
      "삼성전자 주식 배당금 https://kin.naver.com/qna/detail.naver?d1id=4&dirId=40102&docId=471548008&qb=7IK87ISx7KCE7J6Q&enc=utf8§ion=kin.qna_ency&rank=1&search_sort=0&spq=0 2024.06.25. 주식, 증권 7\n",
      "삼성전자 주가 흐름이 괜찮아 보이는데 https://kin.naver.com/qna/detail.naver?d1id=11&dirId=110408&docId=472010334&qb=7IK87ISx7KCE7J6Q&enc=utf8§ion=kin.qna_ency&rank=2&search_sort=0&spq=0 2024.07.05. 대학 입시, 진학 4\n",
      "삼성전자 주가 급하게 고민이 생겼습니다 https://kin.naver.com/qna/detail.naver?d1id=11&dirId=110408&docId=471864201&qb=7IK87ISx7KCE7J6Q&enc=utf8§ion=kin.qna_ency&rank=3&search_sort=0&spq=0 2024.07.03. 대학 입시, 진학 3\n",
      "삼성전자 올인원pc 7 https://kin.naver.com/qna/detail.naver?d1id=1&dirId=10301&docId=471839785&qb=7IK87ISx7KCE7J6Q&enc=utf8§ion=kin.qna_ency&rank=4&search_sort=0&spq=0 2024.06.30. 윈도우 2\n",
      "삼성전자 분기배당 기준일 언젠가요? https://kin.naver.com/qna/detail.naver?d1id=4&dirId=40102&docId=471676218&qb=7IK87ISx7KCE7J6Q&enc=utf8§ion=kin.qna_ency&rank=5&search_sort=0&spq=0 2024.06.27. 주식, 증권 4\n",
      "삼성전자 왜 못오릅니까 파업 영향으로...  https://kin.naver.com/qna/detail.naver?d1id=4&dirId=40102&docId=470721375&qb=7IK87ISx7KCE7J6Q&enc=utf8§ion=kin.qna_ency&rank=6&search_sort=0&spq=0 2024.06.21. 주식, 증권 2\n",
      "삼성전자 주가전망이 궁금합니다. https://kin.naver.com/qna/detail.naver?d1id=8&dirId=80301&docId=470596187&qb=7IK87ISx7KCE7J6Q&enc=utf8§ion=kin.qna_ency&rank=7&search_sort=0&spq=0 2024.07.08. 피부관리 4\n",
      "삼성전자 주가가 최고점이였을때 시가총액 https://kin.naver.com/qna/detail.naver?d1id=4&dirId=40102&docId=468317673&qb=7IK87ISx7KCE7J6Q&enc=utf8§ion=kin.qna_ency&rank=8&search_sort=0&spq=0 2024.06.27. 주식, 증권 3\n",
      "삼성전자 디지털 프라자에서 휴대폰신규...  https://kin.naver.com/qna/detail.naver?d1id=1&dirId=1070201&docId=471853674&qb=7IK87ISx7KCE7J6Q&enc=utf8§ion=kin.qna_ency&rank=9&search_sort=0&spq=0 2024.07.02. 휴대전화서비스 3\n",
      "삼성전자 모니터 c32f39mfuk 사양...  https://kin.naver.com/qna/detail.naver?d1id=5&dirId=5020401&docId=471950076&qb=7IK87ISx7KCE7J6Q&enc=utf8§ion=kin.qna_ency&rank=10&search_sort=0&spq=0 2024.07.03. 모니터 1\n"
     ]
    }
   ],
   "source": [
    "# 제목링크날짜 카텍고리 답변수 크롤링\n",
    "import requests\n",
    "from bs4 import BeautifulSoup\n",
    "\n",
    "response = requests.get(\"https://kin.naver.com/search/list.naver?query=%EC%82%BC%EC%84%B1%EC%A0%84%EC%9E%90\")\n",
    "HTML = response.text\n",
    "soup = BeautifulSoup(HTML, 'html.parser')\n",
    "posts = soup.select(\".basic1 > li\") #반복문쓰기전에 나무태그 찾아주기!!\n",
    "for post in posts:\n",
    "    title = post.select_one('._searchListTitleAnchor').text\n",
    "    link = post.select_one(\"._nclicks\\\\:kin\\\\.txt\").attrs['href']\n",
    "    date = post.select_one('.txt_inline').text\n",
    "    category = post.select_one('.txt_g1._nclicks\\\\:kin\\\\.cat2').text\n",
    "    review = post.select_one(\".hit\").text.split('답변수')[1].strip()\n",
    "    print(title,link,date,category,review)\n",
    "\n"
   ]
  }
 ],
 "metadata": {
  "kernelspec": {
   "display_name": "Python 3",
   "language": "python",
   "name": "python3"
  },
  "language_info": {
   "codemirror_mode": {
    "name": "ipython",
    "version": 3
   },
   "file_extension": ".py",
   "mimetype": "text/x-python",
   "name": "python",
   "nbconvert_exporter": "python",
   "pygments_lexer": "ipython3",
   "version": "3.12.4"
  }
 },
 "nbformat": 4,
 "nbformat_minor": 2
}
