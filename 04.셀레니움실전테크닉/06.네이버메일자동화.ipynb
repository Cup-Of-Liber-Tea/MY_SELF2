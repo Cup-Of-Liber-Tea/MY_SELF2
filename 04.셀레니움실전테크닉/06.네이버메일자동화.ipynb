{
 "cells": [
  {
   "cell_type": "code",
   "execution_count": null,
   "metadata": {},
   "outputs": [],
   "source": [
    "user_id = \"hangyaku0955\"\n",
    "user_pw = \"sksmsgodqhrgo@94\""
   ]
  },
  {
   "cell_type": "code",
   "execution_count": 37,
   "metadata": {},
   "outputs": [],
   "source": [
    "#셀레니움 기본 템플릿\n",
    "from selenium import webdriver\n",
    "from selenium.webdriver.common.by import By\n",
    "from selenium.webdriver.common.keys import Keys\n",
    "import time\n",
    "import pyperclip\n",
    "\n",
    "#크롬 드라이버 생성\n",
    "driver = webdriver.Chrome()\n",
    "#페이지 이동\n",
    "driver.get('https://nid.naver.com/nidlogin.login?mode=form&url=https://www.naver.com/')\n",
    "time.sleep(1)\n",
    "#아이디 입력\n",
    "id = driver.find_element(By.CSS_SELECTOR,'#id')\n",
    "pyperclip.copy(user_id)#변수값 복사\n",
    "id.send_keys(Keys.CONTROL, 'v')#키입력문으로 컨v\n",
    "time.sleep(1)\n",
    "#비밀번호 입력\n",
    "pw = driver.find_element(By.CSS_SELECTOR,'#pw')\n",
    "pyperclip.copy(user_pw)\n",
    "pw.send_keys(Keys.CONTROL,'v')\n",
    "time.sleep(1)\n",
    "#로그인버튼 클릭\n",
    "driver.find_element(By.CSS_SELECTOR, '#log\\\\.login').click()\n",
    "time.sleep(1)\n",
    "#로그인되는데 2단계인증 설정하면 걸림 ㅎㅎ\n"
   ]
  },
  {
   "cell_type": "code",
   "execution_count": 38,
   "metadata": {},
   "outputs": [],
   "source": [
    "#드롭다운 메뉴 클릭\n",
    "driver.find_element(By.CSS_SELECTOR,'#account > div.MyView-module__my_menu___eF24q > div > div > ul > li:nth-child(1) > a > span.MyView-module__item_text___VTQQM').click()"
   ]
  },
  {
   "cell_type": "code",
   "execution_count": 39,
   "metadata": {},
   "outputs": [],
   "source": [
    "#메일함 버튼 클릭\n",
    "driver.find_element(By.CSS_SELECTOR,'#account > div.MyView-module__layer_menu_service___NqMyX > div.MyView-module__service_sub___wix9p > div.MyView-module__sub_left___AIWHR > a').click()\n",
    "#메일함 새탭열림"
   ]
  },
  {
   "cell_type": "code",
   "execution_count": 40,
   "metadata": {},
   "outputs": [
    {
     "data": {
      "text/plain": [
       "['52D060964B15360C238C02654311E045', '6C023D834F96A7BC914A17D9B6819D32']"
      ]
     },
     "execution_count": 40,
     "metadata": {},
     "output_type": "execute_result"
    }
   ],
   "source": [
    "#현재 열려있는 탭 확인\n",
    "driver.window_handles"
   ]
  },
  {
   "cell_type": "code",
   "execution_count": 42,
   "metadata": {},
   "outputs": [],
   "source": [
    "#두번째탭으로 가기\n",
    "driver.switch_to.window(driver.window_handles[1])"
   ]
  },
  {
   "cell_type": "code",
   "execution_count": 43,
   "metadata": {},
   "outputs": [],
   "source": [
    "#메일 쓰기버튼 클릭\n",
    "driver.find_element(By.CSS_SELECTOR,'#root > div > nav > div > div.lnb_header > div.lnb_task > a.item.button_write').click()"
   ]
  },
  {
   "cell_type": "code",
   "execution_count": 44,
   "metadata": {},
   "outputs": [],
   "source": [
    "#받는사람 입력\n",
    "driver.find_element(By.CSS_SELECTOR,'#recipient_input_element').send_keys('hangyaku0955@naver.com')\n"
   ]
  },
  {
   "cell_type": "code",
   "execution_count": 45,
   "metadata": {},
   "outputs": [],
   "source": [
    "#제목입력\n",
    "driver.find_element(By.CSS_SELECTOR,'#subject_title').send_keys('제목이 뭘까요?')"
   ]
  },
  {
   "cell_type": "code",
   "execution_count": 46,
   "metadata": {},
   "outputs": [],
   "source": [
    "#아이프레임 찾기\n",
    "iframe = driver.find_element(By.CSS_SELECTOR, '#content > div.contents_area > div > div.editor_area > div > div.editor_body > iframe')\n",
    "driver.switch_to.frame(iframe)#아이프레임으로 스위치"
   ]
  },
  {
   "cell_type": "code",
   "execution_count": 47,
   "metadata": {},
   "outputs": [],
   "source": [
    "#본문입력하려는되 안되서 위에 코드블럭 실행\n",
    "driver.find_element(By.CSS_SELECTOR,'body > div > div.workseditor-content').send_keys('sadfasdfsdfadasdfasdf')"
   ]
  },
  {
   "cell_type": "code",
   "execution_count": 48,
   "metadata": {},
   "outputs": [],
   "source": [
    "#보내기 버튼 클릭/ 안됨 아직 아이프레임안에 있음.그래서 바로 아래 코드 실행\n",
    "driver.switch_to.default_content() #아이프레임에서 원래대로 돌아오기\n",
    "driver.find_element(By.CSS_SELECTOR,'#content > div.mail_toolbar.type_write > div:nth-child(1) > div > button.button_write_task').click()"
   ]
  }
 ],
 "metadata": {
  "kernelspec": {
   "display_name": "Python 3",
   "language": "python",
   "name": "python3"
  },
  "language_info": {
   "codemirror_mode": {
    "name": "ipython",
    "version": 3
   },
   "file_extension": ".py",
   "mimetype": "text/x-python",
   "name": "python",
   "nbconvert_exporter": "python",
   "pygments_lexer": "ipython3",
   "version": "3.12.4"
  }
 },
 "nbformat": 4,
 "nbformat_minor": 2
}
