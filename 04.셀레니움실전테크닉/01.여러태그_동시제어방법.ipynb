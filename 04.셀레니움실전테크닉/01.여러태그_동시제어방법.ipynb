{
 "cells": [
  {
   "cell_type": "code",
   "execution_count": null,
   "metadata": {},
   "outputs": [],
   "source": [
    "#셀레니움 기본 템플릿\n",
    "from selenium import webdriver\n",
    "from selenium.webdriver.common.by import By\n",
    "from selenium.webdriver.common.keys import Keys\n",
    "\n",
    "#크롬 드라이버 생성\n",
    "driver = webdriver.Chrome()\n",
    "#페이지 이동\n",
    "driver.get('https://startcoding.pythonanywhere.com/basic')"
   ]
  },
  {
   "cell_type": "code",
   "execution_count": null,
   "metadata": {},
   "outputs": [],
   "source": [
    "#태그 찾기\n",
    "labels = driver.find_elements(By.CSS_SELECTOR, \"label[for]\")"
   ]
  },
  {
   "cell_type": "code",
   "execution_count": null,
   "metadata": {},
   "outputs": [],
   "source": [
    "import time #딜레이를 위한 임포트\n",
    "\n",
    "for label in labels:\n",
    "    label.click() #타임딜레이를 안쓰면 매크로 정지당할듯\n",
    "    time.sleep(1) #그래서 1초 딜레이를 사용"
   ]
  },
  {
   "cell_type": "code",
   "execution_count": null,
   "metadata": {},
   "outputs": [],
   "source": [
    "for label in labels:\n",
    "    print(label.text, label.get_attribute('for')) #속성값가져온다는데 뭐라는건지모르겟네"
   ]
  }
 ],
 "metadata": {
  "kernelspec": {
   "display_name": "Python 3",
   "language": "python",
   "name": "python3"
  },
  "language_info": {
   "codemirror_mode": {
    "name": "ipython",
    "version": 3
   },
   "file_extension": ".py",
   "mimetype": "text/x-python",
   "name": "python",
   "nbconvert_exporter": "python",
   "pygments_lexer": "ipython3",
   "version": "3.12.4"
  }
 },
 "nbformat": 4,
 "nbformat_minor": 2
}
