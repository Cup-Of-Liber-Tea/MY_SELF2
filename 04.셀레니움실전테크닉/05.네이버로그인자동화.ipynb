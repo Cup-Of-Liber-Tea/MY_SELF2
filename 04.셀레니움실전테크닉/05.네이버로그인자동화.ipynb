{
 "cells": [
  {
   "cell_type": "code",
   "execution_count": null,
   "metadata": {},
   "outputs": [],
   "source": [
    "user_id = \"hangyaku0955\"\n",
    "user_pw = \"sksmsgodqhrgo@94\""
   ]
  },
  {
   "cell_type": "code",
   "execution_count": null,
   "metadata": {},
   "outputs": [],
   "source": [
    "#셀레니움 기본 템플릿\n",
    "from selenium import webdriver\n",
    "from selenium.webdriver.common.by import By\n",
    "from selenium.webdriver.common.keys import Keys\n",
    "import time\n",
    "\n",
    "#크롬 드라이버 생성\n",
    "driver = webdriver.Chrome()\n",
    "#페이지 이동\n",
    "driver.get('https://nid.naver.com/nidlogin.login?mode=form&url=https://www.naver.com/')\n",
    "time.sleep(1)\n",
    "#아이디 입력\n",
    "id = driver.find_element(By.CSS_SELECTOR,'#id')\n",
    "id.send_keys(user_id)\n",
    "time.sleep(1)\n",
    "#비밀번호 입력\n",
    "pw = driver.find_element(By.CSS_SELECTOR,'#pw')\n",
    "pw.send_keys(user_pw)\n",
    "time.sleep(1)\n",
    "#로그인버튼 클릭\n",
    "driver.find_element(By.CSS_SELECTOR, '#log\\\\.login').click()\n",
    "time.sleep(1)\n"
   ]
  },
  {
   "cell_type": "code",
   "execution_count": null,
   "metadata": {},
   "outputs": [],
   "source": [
    "pip install pyperclip"
   ]
  },
  {
   "cell_type": "code",
   "execution_count": 17,
   "metadata": {},
   "outputs": [],
   "source": [
    "#셀레니움 기본 템플릿\n",
    "from selenium import webdriver\n",
    "from selenium.webdriver.common.by import By\n",
    "from selenium.webdriver.common.keys import Keys\n",
    "import time\n",
    "import pyperclip\n",
    "\n",
    "#크롬 드라이버 생성\n",
    "driver = webdriver.Chrome()\n",
    "#페이지 이동\n",
    "driver.get('https://nid.naver.com/nidlogin.login?mode=form&url=https://www.naver.com/')\n",
    "time.sleep(1)\n",
    "#아이디 입력\n",
    "id = driver.find_element(By.CSS_SELECTOR,'#id')\n",
    "pyperclip.copy(user_id)#변수값 복사\n",
    "id.send_keys(Keys.CONTROL, 'v')#키입력문으로 컨v\n",
    "time.sleep(1)\n",
    "#비밀번호 입력\n",
    "pw = driver.find_element(By.CSS_SELECTOR,'#pw')\n",
    "pyperclip.copy(user_pw)\n",
    "pw.send_keys(Keys.CONTROL,'v')\n",
    "time.sleep(1)\n",
    "#로그인버튼 클릭\n",
    "driver.find_element(By.CSS_SELECTOR, '#log\\\\.login').click()\n",
    "time.sleep(1)\n",
    "#로그인되는데 2단계인증 설정하면 걸림 ㅎㅎ\n"
   ]
  }
 ],
 "metadata": {
  "kernelspec": {
   "display_name": "Python 3",
   "language": "python",
   "name": "python3"
  },
  "language_info": {
   "codemirror_mode": {
    "name": "ipython",
    "version": 3
   },
   "file_extension": ".py",
   "mimetype": "text/x-python",
   "name": "python",
   "nbconvert_exporter": "python",
   "pygments_lexer": "ipython3",
   "version": "3.12.4"
  }
 },
 "nbformat": 4,
 "nbformat_minor": 2
}
