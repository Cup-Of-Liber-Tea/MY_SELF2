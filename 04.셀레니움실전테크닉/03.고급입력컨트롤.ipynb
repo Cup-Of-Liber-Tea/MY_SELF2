{
 "cells": [
  {
   "cell_type": "code",
   "execution_count": 1,
   "metadata": {},
   "outputs": [],
   "source": [
    "#셀레니움 기본 템플릿\n",
    "from selenium import webdriver\n",
    "from selenium.webdriver.common.by import By\n",
    "from selenium.webdriver.common.keys import Keys\n",
    "\n",
    "#크롬 드라이버 생성\n",
    "driver = webdriver.Chrome()\n",
    "#페이지 이동\n",
    "driver.get('https://www.naver.com/')"
   ]
  },
  {
   "cell_type": "code",
   "execution_count": 7,
   "metadata": {},
   "outputs": [],
   "source": [
    "#태그 찾기\n",
    "search = driver.find_element(By.CSS_SELECTOR, '#query')\n",
    "\n",
    "#문자 입력\n",
    "search.send_keys('스타트코딩')"
   ]
  },
  {
   "cell_type": "code",
   "execution_count": 12,
   "metadata": {},
   "outputs": [],
   "source": [
    "#입력값 삭제\n",
    "search.clear()"
   ]
  },
  {
   "cell_type": "code",
   "execution_count": 9,
   "metadata": {},
   "outputs": [],
   "source": [
    "#순차적 키 입력\n",
    "search.send_keys(Keys.CONTROL, 'a') #컨트롤a"
   ]
  },
  {
   "cell_type": "code",
   "execution_count": 10,
   "metadata": {},
   "outputs": [],
   "source": [
    "search.send_keys(Keys.CONTROL, 'c')"
   ]
  },
  {
   "cell_type": "code",
   "execution_count": 11,
   "metadata": {},
   "outputs": [],
   "source": [
    "search.send_keys(Keys.CONTROL, 'v')"
   ]
  },
  {
   "cell_type": "code",
   "execution_count": 13,
   "metadata": {},
   "outputs": [],
   "source": [
    "search.send_keys('스타트코딩', Keys.ENTER)"
   ]
  },
  {
   "cell_type": "code",
   "execution_count": null,
   "metadata": {},
   "outputs": [],
   "source": [
    "search.send_keys('검색어', Keys.TAB, '검색어2') #탭으로 2단 입력창 쉽게하기"
   ]
  }
 ],
 "metadata": {
  "kernelspec": {
   "display_name": "Python 3",
   "language": "python",
   "name": "python3"
  },
  "language_info": {
   "codemirror_mode": {
    "name": "ipython",
    "version": 3
   },
   "file_extension": ".py",
   "mimetype": "text/x-python",
   "name": "python",
   "nbconvert_exporter": "python",
   "pygments_lexer": "ipython3",
   "version": "3.12.4"
  }
 },
 "nbformat": 4,
 "nbformat_minor": 2
}
