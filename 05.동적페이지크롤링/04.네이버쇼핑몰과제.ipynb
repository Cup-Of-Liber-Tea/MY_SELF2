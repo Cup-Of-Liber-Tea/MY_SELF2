{
 "cells": [
  {
   "cell_type": "code",
   "execution_count": 1,
   "metadata": {},
   "outputs": [],
   "source": [
    "#상품명/상세페이지링크/가격(실수) 구하기\n",
    "# 정적인부분 동적인 부분 구분\n",
    "# 광고제외"
   ]
  },
  {
   "cell_type": "code",
   "execution_count": 15,
   "metadata": {},
   "outputs": [],
   "source": [
    "from selenium import webdriver\n",
    "from selenium.webdriver.common.by import By\n",
    "from selenium.webdriver.common.keys import Keys\n",
    "\n",
    "#크롬 드라이버 생성\n",
    "driver = webdriver.Chrome()\n",
    "#페이지 이동\n",
    "검색어 = '닭가슴살'\n",
    "driver.get(f'https://search.shopping.naver.com/search/all?query={검색어}')"
   ]
  },
  {
   "cell_type": "code",
   "execution_count": 16,
   "metadata": {},
   "outputs": [],
   "source": [
    "#창이작으면 한번에 많이 내려감\n",
    "import time\n",
    "#스크롤 전 높이\n",
    "last_height = driver.execute_script('return document.body.scrollHeight')\n",
    "while True:\n",
    "    #스크롤 내리기\n",
    "    driver.execute_script('window.scrollTo(0, document.body.scrollHeight)')    \n",
    "\n",
    "    #잠시대기\n",
    "    time.sleep(1)#컨텐츠가 로드되기전에 이프문 실행해버려서 코드종료\n",
    "\n",
    "    #스크롤 후 높이\n",
    "    new_height = driver.execute_script('return document.body.scrollHeight')\n",
    "\n",
    "    #비교(if , break)\n",
    "    if new_height == last_height:\n",
    "        break\n",
    "\n",
    "    #스크롤 전 높이 업데이트\n",
    "    last_height = new_height"
   ]
  },
  {
   "cell_type": "code",
   "execution_count": 8,
   "metadata": {},
   "outputs": [],
   "source": [
    "from bs4 import BeautifulSoup\n",
    "import pandas as pd\n",
    "\n",
    "data= []\n",
    "html = driver.page_source #페이지 소스를 html변수로담고 그다음은 정적\n",
    "soup = BeautifulSoup(html, 'html.parser')#html반죽\n",
    "items = soup.select('.product_item__MDtDF')#광고아닌 나무태그\n",
    "for item in items:\n",
    "    name = item.select_one('.product_inner__gr8QR > .product_info_area__xxCTi > .product_title__Mmw2K > a').text #.product_title__Mmw2K > a 까지만써도됨\n",
    "    link = item.select_one('.product_inner__gr8QR > .product_info_area__xxCTi > .product_title__Mmw2K > a').attrs['href']\n",
    "    price = int(item.select_one('.product_inner__gr8QR > .product_info_area__xxCTi > .product_price_area__eTg7I > .product_price__52oO9 > .price > .price_num__S2p_v').text.split('원')[0].replace(',',''))#원부분 .replace('원','')해도됨 / .price_num__S2p_v 까지해도됨 \n",
    "    data.append([name,link,price])"
   ]
  },
  {
   "cell_type": "code",
   "execution_count": 9,
   "metadata": {},
   "outputs": [],
   "source": [
    "#데이터 프레임\n",
    "df = pd.DataFrame(data, columns=['상품명','링크','가격'])\n",
    "df.to_excel('네이버쇼핑몰.xlsx')"
   ]
  },
  {
   "cell_type": "code",
   "execution_count": 27,
   "metadata": {},
   "outputs": [
    {
     "name": "stdout",
     "output_type": "stream",
     "text": [
      "\n",
      "\n",
      "\n",
      "\n",
      "\n",
      "\n",
      "\n",
      "\n",
      "\n",
      "\n",
      "\n",
      "\n",
      "\n",
      "\n",
      "\n",
      "\n",
      "\n",
      "\n",
      "\n",
      "\n",
      "\n",
      "\n",
      "\n",
      "\n",
      "\n",
      "82000\n",
      "11000\n",
      "22000\n",
      "32000\n",
      "17000\n",
      "7953\n",
      "\n",
      "118000\n",
      "10000\n",
      "87000\n",
      "31000\n",
      "\n",
      "\n",
      "4891\n",
      "7298\n"
     ]
    }
   ],
   "source": [
    "\n",
    "html = driver.page_source #페이지 소스를 html변수로담고 그다음은 정적\n",
    "soup = BeautifulSoup(html, 'html.parser')#html반죽\n",
    "items = soup.select('.product_item__MDtDF')#광고아닌 나무태그\n",
    "for item in items:\n",
    "    #구매건수만 추출\n",
    "    if item.select_one('[data-nclick*=purchase] em'):\n",
    "        purchase = item.select_one('[data-nclick*=purchase] em').text.replace(',','')\n",
    "        if '만' in purchase:\n",
    "            purchase = int(float(purchase.split('만')[0]) *10000)\n",
    "    else:\n",
    "        purchase = ''\n",
    "    print(purchase)"
   ]
  }
 ],
 "metadata": {
  "kernelspec": {
   "display_name": "Python 3",
   "language": "python",
   "name": "python3"
  },
  "language_info": {
   "codemirror_mode": {
    "name": "ipython",
    "version": 3
   },
   "file_extension": ".py",
   "mimetype": "text/x-python",
   "name": "python",
   "nbconvert_exporter": "python",
   "pygments_lexer": "ipython3",
   "version": "3.12.4"
  }
 },
 "nbformat": 4,
 "nbformat_minor": 2
}
