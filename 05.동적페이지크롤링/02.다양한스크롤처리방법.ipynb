{
 "cells": [
  {
   "cell_type": "code",
   "execution_count": 11,
   "metadata": {},
   "outputs": [],
   "source": [
    "from selenium import webdriver\n",
    "from selenium.webdriver.common.by import By\n",
    "from selenium.webdriver.common.keys import Keys\n",
    "\n",
    "#크롬 드라이버 생성\n",
    "driver = webdriver.Chrome()\n",
    "#페이지 이동\n",
    "driver.get('https://startcoding.pythonanywhere.com/dynamic')"
   ]
  },
  {
   "cell_type": "code",
   "execution_count": 12,
   "metadata": {},
   "outputs": [],
   "source": [
    "#절대 위치로 스크롤\n",
    "driver.execute_script('window.scrollTo(0,3000)')\n",
    "#위코드는 셀레니움으로 자바스크립트를 실행하는 명령어\n",
    "#절대위치기준으로 y 3000만큼 스크롤해줌 근데 절대위치 기준이라 반복해도 스크롤이 더 내려가진않음"
   ]
  },
  {
   "cell_type": "code",
   "execution_count": 13,
   "metadata": {},
   "outputs": [],
   "source": [
    "#상대 위치로 스크롤\n",
    "driver.execute_script('window.scrollBy(0,1000)')\n",
    "#반복실행하면 계속 내려감"
   ]
  },
  {
   "cell_type": "code",
   "execution_count": 19,
   "metadata": {},
   "outputs": [
    {
     "data": {
      "text/plain": [
       "7091"
      ]
     },
     "execution_count": 19,
     "metadata": {},
     "output_type": "execute_result"
    }
   ],
   "source": [
    "#현재 스크롤 높이 구하기\n",
    "driver.execute_script('return document.body.scrollHeight')"
   ]
  },
  {
   "cell_type": "code",
   "execution_count": 18,
   "metadata": {},
   "outputs": [],
   "source": [
    "#페이지 끝까지 스크롤\n",
    "driver.execute_script('window.scrollTo(0,document.body.scrollHeight)')"
   ]
  },
  {
   "cell_type": "code",
   "execution_count": 3,
   "metadata": {},
   "outputs": [],
   "source": [
    "#(심화) 특정요소로 스크롤 하는방법\n",
    "tag = driver.find_element(By.CSS_SELECTOR, '#aside > div:nth-child(3) > div > div:nth-child(6) > label')\n",
    "driver.execute_script('arguments[0].scrollIntoView(true)',tag)"
   ]
  },
  {
   "cell_type": "code",
   "execution_count": 8,
   "metadata": {},
   "outputs": [],
   "source": [
    "#(심화) 특정 요소가 나타날 때까지 자동 스크롤 탐색\n",
    "import time\n",
    "while True:#무한반복\n",
    "    try:#파인드엘레멘트 찾아라\n",
    "        elenemt = driver.find_element(By.CSS_SELECTOR, '#product-container > div:nth-child(21) > div')\n",
    "        break#찾으면 브레이크\n",
    "    except:#예외처리 / 못찾으면 스크롤해라  \n",
    "        driver.execute_script('window.scrollTo(0,document.body.scrollHeight)')\n",
    "        time.sleep(1) #자바스크립트 로딩 딜레이인듯?"
   ]
  }
 ],
 "metadata": {
  "kernelspec": {
   "display_name": "Python 3",
   "language": "python",
   "name": "python3"
  },
  "language_info": {
   "codemirror_mode": {
    "name": "ipython",
    "version": 3
   },
   "file_extension": ".py",
   "mimetype": "text/x-python",
   "name": "python",
   "nbconvert_exporter": "python",
   "pygments_lexer": "ipython3",
   "version": "3.12.4"
  }
 },
 "nbformat": 4,
 "nbformat_minor": 2
}
