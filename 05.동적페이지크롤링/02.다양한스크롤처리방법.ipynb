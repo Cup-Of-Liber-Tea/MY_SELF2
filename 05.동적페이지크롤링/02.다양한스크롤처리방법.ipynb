{
 "cells": [
  {
   "cell_type": "code",
   "execution_count": 17,
   "metadata": {},
   "outputs": [],
   "source": [
    "from selenium import webdriver\n",
    "from selenium.webdriver.common.by import By\n",
    "from selenium.webdriver.common.keys import Keys\n",
    "\n",
    "#크롬 드라이버 생성\n",
    "driver = webdriver.Chrome()\n",
    "#페이지 이동\n",
    "driver.get('https://startcoding.pythonanywhere.com/dynamic')"
   ]
  },
  {
   "cell_type": "code",
   "execution_count": 16,
   "metadata": {},
   "outputs": [],
   "source": [
    "#절대 위치로 스크롤\n",
    "driver.execute_script('window.scrollTo(0,3000)')\n",
    "#위코드는 셀레니움으로 자바스크립트를 실행하는 명령어\n",
    "#절대위치기준으로 y 3000만큼 스크롤해줌 근데 절대위치 기준이라 반복해도 스크롤이 더 내려가진않음"
   ]
  },
  {
   "cell_type": "code",
   "execution_count": 26,
   "metadata": {},
   "outputs": [],
   "source": [
    "#상대 위치로 스크롤\n",
    "driver.execute_script('window.scrollBy(0,1000)')\n",
    "#반복실행하면 계속 내려감"
   ]
  },
  {
   "cell_type": "code",
   "execution_count": 43,
   "metadata": {},
   "outputs": [
    {
     "data": {
      "text/plain": [
       "7091"
      ]
     },
     "execution_count": 43,
     "metadata": {},
     "output_type": "execute_result"
    }
   ],
   "source": [
    "#현재 스크롤 높이 구하기\n",
    "driver.execute_script('return document.body.scrollHeight')"
   ]
  },
  {
   "cell_type": "code",
   "execution_count": 41,
   "metadata": {},
   "outputs": [],
   "source": [
    "#페이지 끝까지 스크롤\n",
    "driver.execute_script('window.scrollTo(0,document.body.scrollHeight)')"
   ]
  }
 ],
 "metadata": {
  "kernelspec": {
   "display_name": "Python 3",
   "language": "python",
   "name": "python3"
  },
  "language_info": {
   "codemirror_mode": {
    "name": "ipython",
    "version": 3
   },
   "file_extension": ".py",
   "mimetype": "text/x-python",
   "name": "python",
   "nbconvert_exporter": "python",
   "pygments_lexer": "ipython3",
   "version": "3.12.4"
  }
 },
 "nbformat": 4,
 "nbformat_minor": 2
}
