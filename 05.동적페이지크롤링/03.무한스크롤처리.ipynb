{
 "cells": [
  {
   "cell_type": "code",
   "execution_count": 9,
   "metadata": {},
   "outputs": [],
   "source": [
    "# 동적 페이지 추출 방식\n",
    "\n",
    "from selenium import webdriver\n",
    "from selenium.webdriver.common.by import By\n",
    "from selenium.webdriver.common.keys import Keys\n",
    "\n",
    "#크롬 드라이버 생성\n",
    "driver = webdriver.Chrome()\n",
    "#페이지 이동\n",
    "driver.get('https://startcoding.pythonanywhere.com/dynamic')"
   ]
  },
  {
   "cell_type": "code",
   "execution_count": 10,
   "metadata": {},
   "outputs": [],
   "source": [
    "import time\n",
    "\n",
    "#스크롤 전 높이\n",
    "last_height = driver.execute_script('return document.body.scrollHeight')\n",
    "\n",
    "while True:\n",
    "    #스크롤 끝까지 내리기\n",
    "    driver.execute_script('window.scrollTo(0, document.body.scrollHeight)')\n",
    "    \n",
    "    #잠시대기\n",
    "    time.sleep(1)#컨텐츠가 로드되기전에 이프문 실행해버려서 코드종료\n",
    "\n",
    "    #스크롤 후 높이\n",
    "    new_height = driver.execute_script('return document.body.scrollHeight')\n",
    "\n",
    "    #비교(if , break)\n",
    "    if new_height == last_height:\n",
    "        break\n",
    "\n",
    "    #스크롤 전 높이 업데이트\n",
    "    last_height = new_height"
   ]
  },
  {
   "cell_type": "code",
   "execution_count": null,
   "metadata": {},
   "outputs": [],
   "source": [
    "from bs4 import BeautifulSoup\n",
    "\n",
    "html = driver.page_source #페이지 소스를 html변수로담고 그다음은 정적\n",
    "soup = BeautifulSoup(html, 'html.parser')\n",
    "soup.select_one('.product-name').text\n",
    "items = soup.select('.product')\n",
    "for item in items:\n",
    "    category = item.select_one('.product-category').text\n",
    "    name = item.select_one('.product-name').text\n",
    "    link = item.select_one('.product-name > a').attrs['href']\n",
    "    price = item.select_one('.product-price').text.split('원')[0].replace(',','')\n",
    "    print(category,name,link,price)"
   ]
  }
 ],
 "metadata": {
  "kernelspec": {
   "display_name": "Python 3",
   "language": "python",
   "name": "python3"
  },
  "language_info": {
   "codemirror_mode": {
    "name": "ipython",
    "version": 3
   },
   "file_extension": ".py",
   "mimetype": "text/x-python",
   "name": "python",
   "nbconvert_exporter": "python",
   "pygments_lexer": "ipython3",
   "version": "3.12.4"
  }
 },
 "nbformat": 4,
 "nbformat_minor": 2
}
