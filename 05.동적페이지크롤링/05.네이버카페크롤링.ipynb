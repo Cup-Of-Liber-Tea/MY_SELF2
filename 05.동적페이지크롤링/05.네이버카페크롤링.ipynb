{
 "cells": [
  {
   "cell_type": "code",
   "execution_count": null,
   "metadata": {},
   "outputs": [],
   "source": [
    "#유튜브 후기 게시판클릭\n",
    "#50개씩표시하기 클릭\n",
    "#제목과 링크 추출\n",
    "# :not()선택자 사용해보기"
   ]
  },
  {
   "cell_type": "code",
   "execution_count": 50,
   "metadata": {},
   "outputs": [],
   "source": [
    "from selenium import webdriver\n",
    "from selenium.webdriver.common.by import By\n",
    "from selenium.webdriver.common.keys import Keys\n",
    "from selenium.webdriver.support.select import Select\n",
    "\n",
    "#크롬 드라이버 생성\n",
    "driver = webdriver.Chrome()\n",
    "#페이지 이동\n",
    "driver.get('https://cafe.naver.com/startcodingofficial')\n",
    "#유튜브매뉴클릭\n",
    "menu = driver.find_element(By.CSS_SELECTOR, '#menuLink15')\n",
    "menu.click()\n"
   ]
  },
  {
   "cell_type": "code",
   "execution_count": null,
   "metadata": {},
   "outputs": [],
   "source": [
    "iframe = driver.find_element(By.CSS_SELECTOR,'#cafe_main')\n",
    "driver.switch_to.frame(iframe)\n",
    "#아이프레임박스진입"
   ]
  },
  {
   "cell_type": "code",
   "execution_count": 46,
   "metadata": {},
   "outputs": [],
   "source": [
    "#1.태그를 보이게 만들고 클릭실행\n",
    "tab = driver.find_element(By.CSS_SELECTOR, '#listSizeSelectDiv > a').click()\n",
    "\n",
    "fif = driver.find_element(By.CSS_SELECTOR,'#listSizeSelectDiv > ul > li:nth-child(7) > a').click()"
   ]
  },
  {
   "cell_type": "code",
   "execution_count": 49,
   "metadata": {},
   "outputs": [
    {
     "ename": "JavascriptException",
     "evalue": "Message: javascript error: Cannot read properties of null (reading 'click')\n  (Session info: chrome=126.0.6478.127)\nStacktrace:\n\tGetHandleVerifier [0x00007FF6DACAEEA2+31554]\n\t(No symbol) [0x00007FF6DAC27ED9]\n\t(No symbol) [0x00007FF6DAAE872A]\n\t(No symbol) [0x00007FF6DAAEE55E]\n\t(No symbol) [0x00007FF6DAAF11D8]\n\t(No symbol) [0x00007FF6DAB7D69B]\n\t(No symbol) [0x00007FF6DAB5D02A]\n\t(No symbol) [0x00007FF6DAB7C977]\n\t(No symbol) [0x00007FF6DAB5CDD3]\n\t(No symbol) [0x00007FF6DAB2A33B]\n\t(No symbol) [0x00007FF6DAB2AED1]\n\tGetHandleVerifier [0x00007FF6DAFB8B1D+3217341]\n\tGetHandleVerifier [0x00007FF6DB005AE3+3532675]\n\tGetHandleVerifier [0x00007FF6DAFFB0E0+3489152]\n\tGetHandleVerifier [0x00007FF6DAD5E776+750614]\n\t(No symbol) [0x00007FF6DAC3375F]\n\t(No symbol) [0x00007FF6DAC2EB14]\n\t(No symbol) [0x00007FF6DAC2ECA2]\n\t(No symbol) [0x00007FF6DAC1E16F]\n\tBaseThreadInitThunk [0x00007FFA0ADB257D+29]\n\tRtlUserThreadStart [0x00007FFA0B78AF28+40]\n",
     "output_type": "error",
     "traceback": [
      "\u001b[1;31m---------------------------------------------------------------------------\u001b[0m",
      "\u001b[1;31mJavascriptException\u001b[0m                       Traceback (most recent call last)",
      "Cell \u001b[1;32mIn[49], line 2\u001b[0m\n\u001b[0;32m      1\u001b[0m \u001b[38;5;66;03m#2. 자바스크립트를 이용하여 태그클릭실행\u001b[39;00m\n\u001b[1;32m----> 2\u001b[0m \u001b[43mdriver\u001b[49m\u001b[38;5;241;43m.\u001b[39;49m\u001b[43mexecute_script\u001b[49m\u001b[43m(\u001b[49m\u001b[38;5;124;43m'\u001b[39;49m\u001b[38;5;124;43marguments[0].click()\u001b[39;49m\u001b[38;5;124;43m'\u001b[39;49m\u001b[43m,\u001b[49m\u001b[43m \u001b[49m\u001b[43mfif\u001b[49m\u001b[43m)\u001b[49m\n",
      "File \u001b[1;32mc:\\Python\\Lib\\site-packages\\selenium\\webdriver\\remote\\webdriver.py:407\u001b[0m, in \u001b[0;36mWebDriver.execute_script\u001b[1;34m(self, script, *args)\u001b[0m\n\u001b[0;32m    404\u001b[0m converted_args \u001b[38;5;241m=\u001b[39m \u001b[38;5;28mlist\u001b[39m(args)\n\u001b[0;32m    405\u001b[0m command \u001b[38;5;241m=\u001b[39m Command\u001b[38;5;241m.\u001b[39mW3C_EXECUTE_SCRIPT\n\u001b[1;32m--> 407\u001b[0m \u001b[38;5;28;01mreturn\u001b[39;00m \u001b[38;5;28;43mself\u001b[39;49m\u001b[38;5;241;43m.\u001b[39;49m\u001b[43mexecute\u001b[49m\u001b[43m(\u001b[49m\u001b[43mcommand\u001b[49m\u001b[43m,\u001b[49m\u001b[43m \u001b[49m\u001b[43m{\u001b[49m\u001b[38;5;124;43m\"\u001b[39;49m\u001b[38;5;124;43mscript\u001b[39;49m\u001b[38;5;124;43m\"\u001b[39;49m\u001b[43m:\u001b[49m\u001b[43m \u001b[49m\u001b[43mscript\u001b[49m\u001b[43m,\u001b[49m\u001b[43m \u001b[49m\u001b[38;5;124;43m\"\u001b[39;49m\u001b[38;5;124;43margs\u001b[39;49m\u001b[38;5;124;43m\"\u001b[39;49m\u001b[43m:\u001b[49m\u001b[43m \u001b[49m\u001b[43mconverted_args\u001b[49m\u001b[43m}\u001b[49m\u001b[43m)\u001b[49m[\u001b[38;5;124m\"\u001b[39m\u001b[38;5;124mvalue\u001b[39m\u001b[38;5;124m\"\u001b[39m]\n",
      "File \u001b[1;32mc:\\Python\\Lib\\site-packages\\selenium\\webdriver\\remote\\webdriver.py:347\u001b[0m, in \u001b[0;36mWebDriver.execute\u001b[1;34m(self, driver_command, params)\u001b[0m\n\u001b[0;32m    345\u001b[0m response \u001b[38;5;241m=\u001b[39m \u001b[38;5;28mself\u001b[39m\u001b[38;5;241m.\u001b[39mcommand_executor\u001b[38;5;241m.\u001b[39mexecute(driver_command, params)\n\u001b[0;32m    346\u001b[0m \u001b[38;5;28;01mif\u001b[39;00m response:\n\u001b[1;32m--> 347\u001b[0m     \u001b[38;5;28;43mself\u001b[39;49m\u001b[38;5;241;43m.\u001b[39;49m\u001b[43merror_handler\u001b[49m\u001b[38;5;241;43m.\u001b[39;49m\u001b[43mcheck_response\u001b[49m\u001b[43m(\u001b[49m\u001b[43mresponse\u001b[49m\u001b[43m)\u001b[49m\n\u001b[0;32m    348\u001b[0m     response[\u001b[38;5;124m\"\u001b[39m\u001b[38;5;124mvalue\u001b[39m\u001b[38;5;124m\"\u001b[39m] \u001b[38;5;241m=\u001b[39m \u001b[38;5;28mself\u001b[39m\u001b[38;5;241m.\u001b[39m_unwrap_value(response\u001b[38;5;241m.\u001b[39mget(\u001b[38;5;124m\"\u001b[39m\u001b[38;5;124mvalue\u001b[39m\u001b[38;5;124m\"\u001b[39m, \u001b[38;5;28;01mNone\u001b[39;00m))\n\u001b[0;32m    349\u001b[0m     \u001b[38;5;28;01mreturn\u001b[39;00m response\n",
      "File \u001b[1;32mc:\\Python\\Lib\\site-packages\\selenium\\webdriver\\remote\\errorhandler.py:229\u001b[0m, in \u001b[0;36mErrorHandler.check_response\u001b[1;34m(self, response)\u001b[0m\n\u001b[0;32m    227\u001b[0m         alert_text \u001b[38;5;241m=\u001b[39m value[\u001b[38;5;124m\"\u001b[39m\u001b[38;5;124malert\u001b[39m\u001b[38;5;124m\"\u001b[39m]\u001b[38;5;241m.\u001b[39mget(\u001b[38;5;124m\"\u001b[39m\u001b[38;5;124mtext\u001b[39m\u001b[38;5;124m\"\u001b[39m)\n\u001b[0;32m    228\u001b[0m     \u001b[38;5;28;01mraise\u001b[39;00m exception_class(message, screen, stacktrace, alert_text)  \u001b[38;5;66;03m# type: ignore[call-arg]  # mypy is not smart enough here\u001b[39;00m\n\u001b[1;32m--> 229\u001b[0m \u001b[38;5;28;01mraise\u001b[39;00m exception_class(message, screen, stacktrace)\n",
      "\u001b[1;31mJavascriptException\u001b[0m: Message: javascript error: Cannot read properties of null (reading 'click')\n  (Session info: chrome=126.0.6478.127)\nStacktrace:\n\tGetHandleVerifier [0x00007FF6DACAEEA2+31554]\n\t(No symbol) [0x00007FF6DAC27ED9]\n\t(No symbol) [0x00007FF6DAAE872A]\n\t(No symbol) [0x00007FF6DAAEE55E]\n\t(No symbol) [0x00007FF6DAAF11D8]\n\t(No symbol) [0x00007FF6DAB7D69B]\n\t(No symbol) [0x00007FF6DAB5D02A]\n\t(No symbol) [0x00007FF6DAB7C977]\n\t(No symbol) [0x00007FF6DAB5CDD3]\n\t(No symbol) [0x00007FF6DAB2A33B]\n\t(No symbol) [0x00007FF6DAB2AED1]\n\tGetHandleVerifier [0x00007FF6DAFB8B1D+3217341]\n\tGetHandleVerifier [0x00007FF6DB005AE3+3532675]\n\tGetHandleVerifier [0x00007FF6DAFFB0E0+3489152]\n\tGetHandleVerifier [0x00007FF6DAD5E776+750614]\n\t(No symbol) [0x00007FF6DAC3375F]\n\t(No symbol) [0x00007FF6DAC2EB14]\n\t(No symbol) [0x00007FF6DAC2ECA2]\n\t(No symbol) [0x00007FF6DAC1E16F]\n\tBaseThreadInitThunk [0x00007FFA0ADB257D+29]\n\tRtlUserThreadStart [0x00007FFA0B78AF28+40]\n"
     ]
    }
   ],
   "source": [
    "#2. 자바스크립트를 이용하여 태그클릭실행\n",
    "driver.execute_script('arguments[0].click()', fif)"
   ]
  },
  {
   "cell_type": "code",
   "execution_count": 42,
   "metadata": {},
   "outputs": [],
   "source": [
    "from bs4 import BeautifulSoup\n",
    "\n",
    "html = driver.page_source #페이지 소스를 html변수로담고 그다음은 정적\n",
    "soup = BeautifulSoup(html, 'html.parser')#html반죽\n",
    "items = soup.select('td_article')#광고아닌 나무태그\n",
    "for item in items:\n",
    "    title = item.select_one('.article').text\n",
    "    print(title)\n"
   ]
  },
  {
   "cell_type": "markdown",
   "metadata": {},
   "source": []
  }
 ],
 "metadata": {
  "kernelspec": {
   "display_name": "Python 3",
   "language": "python",
   "name": "python3"
  },
  "language_info": {
   "codemirror_mode": {
    "name": "ipython",
    "version": 3
   },
   "file_extension": ".py",
   "mimetype": "text/x-python",
   "name": "python",
   "nbconvert_exporter": "python",
   "pygments_lexer": "ipython3",
   "version": "3.12.4"
  }
 },
 "nbformat": 4,
 "nbformat_minor": 2
}
